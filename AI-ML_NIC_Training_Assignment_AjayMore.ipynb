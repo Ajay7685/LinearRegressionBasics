{
 "cells": [
  {
   "cell_type": "markdown",
   "id": "4b2bc817",
   "metadata": {},
   "source": [
    "# AI/ML Training Assignment # 3 Regression Analysis using Machine Learning Algorithms "
   ]
  },
  {
   "cell_type": "markdown",
   "id": "1e6e5ccf",
   "metadata": {},
   "source": [
    "# Q1. What will you perform based on the target column? \n",
    "## - a) Linear Regression, b) Logistic Regression\n",
    "\n",
    "# Answer - As the dependent variable is Salary which is a quantative (numerical data) \"Linera Regression\" should be performed for prediction "
   ]
  },
  {
   "cell_type": "code",
   "execution_count": 130,
   "id": "003f8d86",
   "metadata": {},
   "outputs": [],
   "source": [
    "import warnings\n",
    "warnings.filterwarnings('ignore')\n",
    "import pandas as pd\n",
    "import numpy as np\n",
    "np.set_printoptions(precision=4, linewidth=100)"
   ]
  },
  {
   "cell_type": "code",
   "execution_count": 131,
   "id": "94ea4729",
   "metadata": {},
   "outputs": [
    {
     "data": {
      "text/html": [
       "<div>\n",
       "<style scoped>\n",
       "    .dataframe tbody tr th:only-of-type {\n",
       "        vertical-align: middle;\n",
       "    }\n",
       "\n",
       "    .dataframe tbody tr th {\n",
       "        vertical-align: top;\n",
       "    }\n",
       "\n",
       "    .dataframe thead th {\n",
       "        text-align: right;\n",
       "    }\n",
       "</style>\n",
       "<table border=\"1\" class=\"dataframe\">\n",
       "  <thead>\n",
       "    <tr style=\"text-align: right;\">\n",
       "      <th></th>\n",
       "      <th>Age</th>\n",
       "      <th>Gender</th>\n",
       "      <th>Education_Level</th>\n",
       "      <th>Years_of_Experience</th>\n",
       "      <th>Salary</th>\n",
       "    </tr>\n",
       "  </thead>\n",
       "  <tbody>\n",
       "    <tr>\n",
       "      <th>0</th>\n",
       "      <td>32</td>\n",
       "      <td>1</td>\n",
       "      <td>0</td>\n",
       "      <td>5.0</td>\n",
       "      <td>90000</td>\n",
       "    </tr>\n",
       "    <tr>\n",
       "      <th>1</th>\n",
       "      <td>28</td>\n",
       "      <td>0</td>\n",
       "      <td>1</td>\n",
       "      <td>3.0</td>\n",
       "      <td>65000</td>\n",
       "    </tr>\n",
       "    <tr>\n",
       "      <th>2</th>\n",
       "      <td>45</td>\n",
       "      <td>1</td>\n",
       "      <td>2</td>\n",
       "      <td>15.0</td>\n",
       "      <td>150000</td>\n",
       "    </tr>\n",
       "    <tr>\n",
       "      <th>3</th>\n",
       "      <td>36</td>\n",
       "      <td>0</td>\n",
       "      <td>0</td>\n",
       "      <td>7.0</td>\n",
       "      <td>60000</td>\n",
       "    </tr>\n",
       "    <tr>\n",
       "      <th>4</th>\n",
       "      <td>52</td>\n",
       "      <td>1</td>\n",
       "      <td>1</td>\n",
       "      <td>20.0</td>\n",
       "      <td>200000</td>\n",
       "    </tr>\n",
       "    <tr>\n",
       "      <th>5</th>\n",
       "      <td>29</td>\n",
       "      <td>1</td>\n",
       "      <td>0</td>\n",
       "      <td>2.0</td>\n",
       "      <td>55000</td>\n",
       "    </tr>\n",
       "    <tr>\n",
       "      <th>6</th>\n",
       "      <td>42</td>\n",
       "      <td>0</td>\n",
       "      <td>1</td>\n",
       "      <td>12.0</td>\n",
       "      <td>120000</td>\n",
       "    </tr>\n",
       "    <tr>\n",
       "      <th>7</th>\n",
       "      <td>31</td>\n",
       "      <td>1</td>\n",
       "      <td>0</td>\n",
       "      <td>4.0</td>\n",
       "      <td>80000</td>\n",
       "    </tr>\n",
       "    <tr>\n",
       "      <th>8</th>\n",
       "      <td>26</td>\n",
       "      <td>0</td>\n",
       "      <td>0</td>\n",
       "      <td>1.0</td>\n",
       "      <td>45000</td>\n",
       "    </tr>\n",
       "    <tr>\n",
       "      <th>9</th>\n",
       "      <td>38</td>\n",
       "      <td>1</td>\n",
       "      <td>2</td>\n",
       "      <td>10.0</td>\n",
       "      <td>110000</td>\n",
       "    </tr>\n",
       "  </tbody>\n",
       "</table>\n",
       "</div>"
      ],
      "text/plain": [
       "   Age  Gender  Education_Level  Years_of_Experience  Salary\n",
       "0   32       1                0                  5.0   90000\n",
       "1   28       0                1                  3.0   65000\n",
       "2   45       1                2                 15.0  150000\n",
       "3   36       0                0                  7.0   60000\n",
       "4   52       1                1                 20.0  200000\n",
       "5   29       1                0                  2.0   55000\n",
       "6   42       0                1                 12.0  120000\n",
       "7   31       1                0                  4.0   80000\n",
       "8   26       0                0                  1.0   45000\n",
       "9   38       1                2                 10.0  110000"
      ]
     },
     "execution_count": 131,
     "metadata": {},
     "output_type": "execute_result"
    }
   ],
   "source": [
    "salary_df = pd.read_csv( 'salary.csv' )\n",
    "salary_df.head( 10 )"
   ]
  },
  {
   "cell_type": "code",
   "execution_count": 132,
   "id": "b2b84afb",
   "metadata": {},
   "outputs": [
    {
     "name": "stdout",
     "output_type": "stream",
     "text": [
      "<class 'pandas.core.frame.DataFrame'>\n",
      "RangeIndex: 373 entries, 0 to 372\n",
      "Data columns (total 5 columns):\n",
      " #   Column               Non-Null Count  Dtype  \n",
      "---  ------               --------------  -----  \n",
      " 0   Age                  373 non-null    int64  \n",
      " 1   Gender               373 non-null    int64  \n",
      " 2   Education_Level      373 non-null    int64  \n",
      " 3   Years_of_Experience  373 non-null    float64\n",
      " 4   Salary               373 non-null    int64  \n",
      "dtypes: float64(1), int64(4)\n",
      "memory usage: 14.7 KB\n"
     ]
    }
   ],
   "source": [
    "salary_df.info()"
   ]
  },
  {
   "cell_type": "markdown",
   "id": "cef6118d",
   "metadata": {},
   "source": [
    "# Q2&3. Plot (scatterplot) \n",
    "\n",
    "## Case 1:the 'Years of Experience'(X-axis) and the 'Salary'(Y-axis). What is the relation between these two columns? \n",
    "## Case 2: the 'Age'(X-axis) and the 'Salary'(Y-axis). What is the relation between these two columns?"
   ]
  },
  {
   "cell_type": "code",
   "execution_count": 133,
   "id": "632d2417",
   "metadata": {},
   "outputs": [],
   "source": [
    "import matplotlib.pyplot as plt \n",
    "import seaborn as sn \n",
    "%matplotlib inline"
   ]
  },
  {
   "cell_type": "code",
   "execution_count": 134,
   "id": "a9073e4d",
   "metadata": {},
   "outputs": [],
   "source": [
    "import warnings\n",
    "warnings.filterwarnings('ignore')"
   ]
  },
  {
   "cell_type": "code",
   "execution_count": 135,
   "id": "0f94f526",
   "metadata": {},
   "outputs": [
    {
     "data": {
      "image/png": "[encoded data removed]",
      "text/plain": [
       "<Figure size 640x480 with 1 Axes>"
      ]
     },
     "metadata": {},
     "output_type": "display_data"
    }
   ],
   "source": [
    "#Case 1\n",
    "\n",
    "\n",
    "plt.scatter(x = salary_df['Years_of_Experience'],\n",
    "            y = salary_df['Salary']);\n",
    "plt.xlabel('Years of Experience')\n",
    "plt.ylabel('Salary');"
   ]
  },
  {
   "cell_type": "code",
   "execution_count": 136,
   "id": "20a0ab96",
   "metadata": {},
   "outputs": [
    {
     "data": {
      "image/png": "[encoded data removed]",
      "text/plain": [
       "<Figure size 640x480 with 1 Axes>"
      ]
     },
     "metadata": {},
     "output_type": "display_data"
    }
   ],
   "source": [
    "#Case 2\n",
    "\n",
    "\n",
    "plt.scatter(x = salary_df['Age'],\n",
    "            y = salary_df['Salary']);\n",
    "plt.xlabel('Age')\n",
    "plt.ylabel('Salary');"
   ]
  },
  {
   "cell_type": "code",
   "execution_count": 137,
   "id": "b6170e56",
   "metadata": {},
   "outputs": [
    {
     "data": {
      "image/png": "[encoded data removed]",
      "text/plain": [
       "<Figure size 640x480 with 1 Axes>"
      ]
     },
     "metadata": {},
     "output_type": "display_data"
    }
   ],
   "source": [
    "#Case 1\n",
    "sn.regplot( x = 'Years_of_Experience',\n",
    "            y = 'Salary',\n",
    "            data = salary_df );"
   ]
  },
  {
   "cell_type": "code",
   "execution_count": 138,
   "id": "9aafbc4a",
   "metadata": {},
   "outputs": [
    {
     "data": {
      "image/png": "[encoded data removed]",
      "text/plain": [
       "<Figure size 640x480 with 1 Axes>"
      ]
     },
     "metadata": {},
     "output_type": "display_data"
    }
   ],
   "source": [
    "# Case 2\n",
    "sn.regplot( x = 'Age',\n",
    "            y = 'Salary',\n",
    "            data = salary_df );"
   ]
  },
  {
   "cell_type": "code",
   "execution_count": 139,
   "id": "69915c9a",
   "metadata": {},
   "outputs": [
    {
     "data": {
      "text/plain": [
       "0.9303377227618355"
      ]
     },
     "execution_count": 139,
     "metadata": {},
     "output_type": "execute_result"
    }
   ],
   "source": [
    "#Case 1\n",
    "salary_df['Salary'].corr(salary_df['Years_of_Experience'])"
   ]
  },
  {
   "cell_type": "code",
   "execution_count": 140,
   "id": "918984a8",
   "metadata": {},
   "outputs": [
    {
     "data": {
      "text/plain": [
       "0.9223352439166439"
      ]
     },
     "execution_count": 140,
     "metadata": {},
     "output_type": "execute_result"
    }
   ],
   "source": [
    "#Case 2\n",
    "salary_df['Salary'].corr(salary_df['Age'])"
   ]
  },
  {
   "cell_type": "markdown",
   "id": "fceef47f",
   "metadata": {},
   "source": [
    "## In both the case, correlation postive and is very high. Relation is Linear"
   ]
  },
  {
   "cell_type": "code",
   "execution_count": 141,
   "id": "f4a15ba4",
   "metadata": {},
   "outputs": [],
   "source": [
    "# There is a need to create dummy vriables are Gender, education_level is categorical variable with more than 2 vlaues"
   ]
  },
  {
   "cell_type": "code",
   "execution_count": 142,
   "id": "3b4fef9e",
   "metadata": {},
   "outputs": [],
   "source": [
    "categorical_features = ['Education_Level']"
   ]
  },
  {
   "cell_type": "code",
   "execution_count": 143,
   "id": "b8560b38",
   "metadata": {},
   "outputs": [],
   "source": [
    "salary_df = pd.get_dummies( salary_df,columns = categorical_features,drop_first = True ).astype(int) "
   ]
  },
  {
   "cell_type": "code",
   "execution_count": 144,
   "id": "f98d92ac",
   "metadata": {},
   "outputs": [
    {
     "data": {
      "text/html": [
       "<div>\n",
       "<style scoped>\n",
       "    .dataframe tbody tr th:only-of-type {\n",
       "        vertical-align: middle;\n",
       "    }\n",
       "\n",
       "    .dataframe tbody tr th {\n",
       "        vertical-align: top;\n",
       "    }\n",
       "\n",
       "    .dataframe thead th {\n",
       "        text-align: right;\n",
       "    }\n",
       "</style>\n",
       "<table border=\"1\" class=\"dataframe\">\n",
       "  <thead>\n",
       "    <tr style=\"text-align: right;\">\n",
       "      <th></th>\n",
       "      <th>Age</th>\n",
       "      <th>Gender</th>\n",
       "      <th>Years_of_Experience</th>\n",
       "      <th>Salary</th>\n",
       "      <th>Education_Level_1</th>\n",
       "      <th>Education_Level_2</th>\n",
       "    </tr>\n",
       "  </thead>\n",
       "  <tbody>\n",
       "    <tr>\n",
       "      <th>0</th>\n",
       "      <td>32</td>\n",
       "      <td>1</td>\n",
       "      <td>5</td>\n",
       "      <td>90000</td>\n",
       "      <td>0</td>\n",
       "      <td>0</td>\n",
       "    </tr>\n",
       "    <tr>\n",
       "      <th>1</th>\n",
       "      <td>28</td>\n",
       "      <td>0</td>\n",
       "      <td>3</td>\n",
       "      <td>65000</td>\n",
       "      <td>1</td>\n",
       "      <td>0</td>\n",
       "    </tr>\n",
       "    <tr>\n",
       "      <th>2</th>\n",
       "      <td>45</td>\n",
       "      <td>1</td>\n",
       "      <td>15</td>\n",
       "      <td>150000</td>\n",
       "      <td>0</td>\n",
       "      <td>1</td>\n",
       "    </tr>\n",
       "    <tr>\n",
       "      <th>3</th>\n",
       "      <td>36</td>\n",
       "      <td>0</td>\n",
       "      <td>7</td>\n",
       "      <td>60000</td>\n",
       "      <td>0</td>\n",
       "      <td>0</td>\n",
       "    </tr>\n",
       "    <tr>\n",
       "      <th>4</th>\n",
       "      <td>52</td>\n",
       "      <td>1</td>\n",
       "      <td>20</td>\n",
       "      <td>200000</td>\n",
       "      <td>1</td>\n",
       "      <td>0</td>\n",
       "    </tr>\n",
       "  </tbody>\n",
       "</table>\n",
       "</div>"
      ],
      "text/plain": [
       "   Age  Gender  Years_of_Experience  Salary  Education_Level_1  \\\n",
       "0   32       1                    5   90000                  0   \n",
       "1   28       0                    3   65000                  1   \n",
       "2   45       1                   15  150000                  0   \n",
       "3   36       0                    7   60000                  0   \n",
       "4   52       1                   20  200000                  1   \n",
       "\n",
       "   Education_Level_2  \n",
       "0                  0  \n",
       "1                  0  \n",
       "2                  1  \n",
       "3                  0  \n",
       "4                  0  "
      ]
     },
     "execution_count": 144,
     "metadata": {},
     "output_type": "execute_result"
    }
   ],
   "source": [
    "salary_df.head(5)"
   ]
  },
  {
   "cell_type": "markdown",
   "id": "82c07515",
   "metadata": {},
   "source": [
    "### Creating Feature Set(X) and Outcome Variable(Y)"
   ]
  },
  {
   "cell_type": "code",
   "execution_count": 172,
   "id": "00e91dfe",
   "metadata": {},
   "outputs": [],
   "source": [
    "#Renaming new dummy variables\n",
    "salary_df.rename(columns={\"Education_Level_1\": \"Master's\", \"Education_Level_2\": \"PhD\", \"Gender\":\"Gender_Male\"}, inplace=True)\n"
   ]
  },
  {
   "cell_type": "code",
   "execution_count": 191,
   "id": "4388dc64",
   "metadata": {},
   "outputs": [
    {
     "data": {
      "text/html": [
       "<div>\n",
       "<style scoped>\n",
       "    .dataframe tbody tr th:only-of-type {\n",
       "        vertical-align: middle;\n",
       "    }\n",
       "\n",
       "    .dataframe tbody tr th {\n",
       "        vertical-align: top;\n",
       "    }\n",
       "\n",
       "    .dataframe thead th {\n",
       "        text-align: right;\n",
       "    }\n",
       "</style>\n",
       "<table border=\"1\" class=\"dataframe\">\n",
       "  <thead>\n",
       "    <tr style=\"text-align: right;\">\n",
       "      <th></th>\n",
       "      <th>Age</th>\n",
       "      <th>Gender_Male</th>\n",
       "      <th>Years_of_Experience</th>\n",
       "      <th>Salary</th>\n",
       "      <th>Master's</th>\n",
       "      <th>PhD</th>\n",
       "    </tr>\n",
       "  </thead>\n",
       "  <tbody>\n",
       "    <tr>\n",
       "      <th>0</th>\n",
       "      <td>32</td>\n",
       "      <td>1</td>\n",
       "      <td>5</td>\n",
       "      <td>90000</td>\n",
       "      <td>0</td>\n",
       "      <td>0</td>\n",
       "    </tr>\n",
       "    <tr>\n",
       "      <th>1</th>\n",
       "      <td>28</td>\n",
       "      <td>0</td>\n",
       "      <td>3</td>\n",
       "      <td>65000</td>\n",
       "      <td>1</td>\n",
       "      <td>0</td>\n",
       "    </tr>\n",
       "    <tr>\n",
       "      <th>2</th>\n",
       "      <td>45</td>\n",
       "      <td>1</td>\n",
       "      <td>15</td>\n",
       "      <td>150000</td>\n",
       "      <td>0</td>\n",
       "      <td>1</td>\n",
       "    </tr>\n",
       "    <tr>\n",
       "      <th>3</th>\n",
       "      <td>36</td>\n",
       "      <td>0</td>\n",
       "      <td>7</td>\n",
       "      <td>60000</td>\n",
       "      <td>0</td>\n",
       "      <td>0</td>\n",
       "    </tr>\n",
       "    <tr>\n",
       "      <th>4</th>\n",
       "      <td>52</td>\n",
       "      <td>1</td>\n",
       "      <td>20</td>\n",
       "      <td>200000</td>\n",
       "      <td>1</td>\n",
       "      <td>0</td>\n",
       "    </tr>\n",
       "  </tbody>\n",
       "</table>\n",
       "</div>"
      ],
      "text/plain": [
       "   Age  Gender_Male  Years_of_Experience  Salary  Master's  PhD\n",
       "0   32            1                    5   90000         0    0\n",
       "1   28            0                    3   65000         1    0\n",
       "2   45            1                   15  150000         0    1\n",
       "3   36            0                    7   60000         0    0\n",
       "4   52            1                   20  200000         1    0"
      ]
     },
     "execution_count": 191,
     "metadata": {},
     "output_type": "execute_result"
    }
   ],
   "source": [
    "salary_df.head(5)"
   ]
  },
  {
   "cell_type": "code",
   "execution_count": 173,
   "id": "8d1e11d6",
   "metadata": {},
   "outputs": [],
   "source": [
    "# Build linear regression model using 'Age', 'Gender', 'Education_Level','Years_of_Experience' as predictors\n",
    "# Split data into predictors X and output Y\n",
    "#predictors = ['Age', 'Gender', 'Education_Level','Years_of_Experience'] \n",
    "X = salary_df.drop('Salary', axis=1) \n",
    "Y = salary_df['Salary']"
   ]
  },
  {
   "cell_type": "code",
   "execution_count": 174,
   "id": "c136fdbe",
   "metadata": {},
   "outputs": [
    {
     "name": "stdout",
     "output_type": "stream",
     "text": [
      "<class 'pandas.core.frame.DataFrame'>\n",
      "RangeIndex: 373 entries, 0 to 372\n",
      "Data columns (total 5 columns):\n",
      " #   Column               Non-Null Count  Dtype\n",
      "---  ------               --------------  -----\n",
      " 0   Age                  373 non-null    int64\n",
      " 1   Gender_Male          373 non-null    int64\n",
      " 2   Years_of_Experience  373 non-null    int64\n",
      " 3   Master's             373 non-null    int64\n",
      " 4   PhD                  373 non-null    int64\n",
      "dtypes: int64(5)\n",
      "memory usage: 14.7 KB\n"
     ]
    }
   ],
   "source": [
    "X.info()"
   ]
  },
  {
   "cell_type": "code",
   "execution_count": 175,
   "id": "e7b939db",
   "metadata": {},
   "outputs": [],
   "source": [
    "train_X, test_X, train_y, test_y = train_test_split( X ,\n",
    "                                                     Y,\n",
    "                                                    train_size = 0.8,\n",
    "                                                    random_state = 42 )"
   ]
  },
  {
   "cell_type": "markdown",
   "id": "8e6a1a95",
   "metadata": {},
   "source": [
    "# Fit a regression model "
   ]
  },
  {
   "cell_type": "code",
   "execution_count": 176,
   "id": "022ff535",
   "metadata": {},
   "outputs": [],
   "source": [
    "from sklearn.linear_model import LinearRegression\n",
    "from sklearn.model_selection import train_test_split\n",
    "import statsmodels.formula.api as smf"
   ]
  },
  {
   "cell_type": "code",
   "execution_count": 188,
   "id": "7a14f007",
   "metadata": {},
   "outputs": [],
   "source": [
    "salary_lm = sm.OLS( train_y, train_X ).fit()"
   ]
  },
  {
   "cell_type": "code",
   "execution_count": 189,
   "id": "08a075a1",
   "metadata": {},
   "outputs": [
    {
     "name": "stdout",
     "output_type": "stream",
     "text": [
      "Age                     1150.774660\n",
      "Gender_Male             6586.140255\n",
      "Years_of_Experience     4511.761572\n",
      "Master's               19400.023907\n",
      "PhD                    26814.056162\n",
      "dtype: float64\n"
     ]
    }
   ],
   "source": [
    "print (salary_lm.params)"
   ]
  },
  {
   "cell_type": "code",
   "execution_count": 190,
   "id": "112f5ffe",
   "metadata": {},
   "outputs": [
    {
     "data": {
      "text/html": [
       "<table class=\"simpletable\">\n",
       "<tr>\n",
       "          <td>Model:</td>                 <td>OLS</td>       <td>Adj. R-squared (uncentered):</td>    <td>0.980</td>  \n",
       "</tr>\n",
       "<tr>\n",
       "    <td>Dependent Variable:</td>        <td>Salary</td>                  <td>AIC:</td>              <td>6602.4370</td>\n",
       "</tr>\n",
       "<tr>\n",
       "           <td>Date:</td>          <td>2023-11-30 10:51</td>             <td>BIC:</td>              <td>6620.9225</td>\n",
       "</tr>\n",
       "<tr>\n",
       "     <td>No. Observations:</td>           <td>298</td>              <td>Log-Likelihood:</td>         <td>-3296.2</td> \n",
       "</tr>\n",
       "<tr>\n",
       "         <td>Df Model:</td>                <td>5</td>                <td>F-statistic:</td>            <td>2985.</td>  \n",
       "</tr>\n",
       "<tr>\n",
       "       <td>Df Residuals:</td>             <td>293</td>            <td>Prob (F-statistic):</td>      <td>6.20e-249</td>\n",
       "</tr>\n",
       "<tr>\n",
       "  <td>R-squared (uncentered):</td>       <td>0.981</td>                 <td>Scale:</td>            <td>2.4124e+08</td>\n",
       "</tr>\n",
       "</table>\n",
       "<table class=\"simpletable\">\n",
       "<tr>\n",
       "           <td></td>              <th>Coef.</th>   <th>Std.Err.</th>     <th>t</th>     <th>P>|t|</th>   <th>[0.025</th>     <th>0.975]</th>  \n",
       "</tr>\n",
       "<tr>\n",
       "  <th>Age</th>                  <td>1150.7747</td>  <td>69.8262</td>  <td>16.4806</td> <td>0.0000</td>  <td>1013.3501</td>  <td>1288.1992</td>\n",
       "</tr>\n",
       "<tr>\n",
       "  <th>Gender_Male</th>          <td>6586.1403</td> <td>1788.5716</td> <td>3.6823</td>  <td>0.0003</td>  <td>3066.0642</td> <td>10106.2163</td>\n",
       "</tr>\n",
       "<tr>\n",
       "  <th>Years_of_Experience</th>  <td>4511.7616</td> <td>229.4440</td>  <td>19.6639</td> <td>0.0000</td>  <td>4060.1943</td>  <td>4963.3288</td>\n",
       "</tr>\n",
       "<tr>\n",
       "  <th>Master's</th>            <td>19400.0239</td> <td>2416.1457</td> <td>8.0293</td>  <td>0.0000</td> <td>14644.8233</td> <td>24155.2245</td>\n",
       "</tr>\n",
       "<tr>\n",
       "  <th>PhD</th>                 <td>26814.0562</td> <td>3306.7649</td> <td>8.1088</td>  <td>0.0000</td> <td>20306.0339</td> <td>33322.0785</td>\n",
       "</tr>\n",
       "</table>\n",
       "<table class=\"simpletable\">\n",
       "<tr>\n",
       "     <td>Omnibus:</td>    <td>14.233</td>  <td>Durbin-Watson:</td>    <td>1.936</td>\n",
       "</tr>\n",
       "<tr>\n",
       "  <td>Prob(Omnibus):</td>  <td>0.001</td> <td>Jarque-Bera (JB):</td> <td>35.175</td>\n",
       "</tr>\n",
       "<tr>\n",
       "       <td>Skew:</td>     <td>-0.015</td>     <td>Prob(JB):</td>      <td>0.000</td>\n",
       "</tr>\n",
       "<tr>\n",
       "     <td>Kurtosis:</td>    <td>4.683</td>  <td>Condition No.:</td>     <td>158</td> \n",
       "</tr>\n",
       "</table><br/>\n",
       "Notes:<br/>\n",
       "[1] R² is computed without centering (uncentered) since the                 model does not contain a constant.<br/>\n",
       "[2] Standard Errors assume that the covariance matrix of the errors is correctly specified."
      ],
      "text/latex": [
       "\\begin{table}\n",
       "\\caption{Results: Ordinary least squares}\n",
       "\\label{}\n",
       "\\begin{center}\n",
       "\\begin{tabular}{llll}\n",
       "\\hline\n",
       "Model:                  & OLS              & Adj. R-squared (uncentered): & 0.980       \\\\\n",
       "Dependent Variable:     & Salary           & AIC:                         & 6602.4370   \\\\\n",
       "Date:                   & 2023-11-30 10:51 & BIC:                         & 6620.9225   \\\\\n",
       "No. Observations:       & 298              & Log-Likelihood:              & -3296.2     \\\\\n",
       "Df Model:               & 5                & F-statistic:                 & 2985.       \\\\\n",
       "Df Residuals:           & 293              & Prob (F-statistic):          & 6.20e-249   \\\\\n",
       "R-squared (uncentered): & 0.981            & Scale:                       & 2.4124e+08  \\\\\n",
       "\\hline\n",
       "\\end{tabular}\n",
       "\\end{center}\n",
       "\n",
       "\\begin{center}\n",
       "\\begin{tabular}{lrrrrrr}\n",
       "\\hline\n",
       "                      &      Coef. &  Std.Err. &       t & P$> |$t$|$ &     [0.025 &     0.975]  \\\\\n",
       "\\hline\n",
       "Age                   &  1150.7747 &   69.8262 & 16.4806 &      0.0000 &  1013.3501 &  1288.1992  \\\\\n",
       "Gender\\_Male          &  6586.1403 & 1788.5716 &  3.6823 &      0.0003 &  3066.0642 & 10106.2163  \\\\\n",
       "Years\\_of\\_Experience &  4511.7616 &  229.4440 & 19.6639 &      0.0000 &  4060.1943 &  4963.3288  \\\\\n",
       "Master's              & 19400.0239 & 2416.1457 &  8.0293 &      0.0000 & 14644.8233 & 24155.2245  \\\\\n",
       "PhD                   & 26814.0562 & 3306.7649 &  8.1088 &      0.0000 & 20306.0339 & 33322.0785  \\\\\n",
       "\\hline\n",
       "\\end{tabular}\n",
       "\\end{center}\n",
       "\n",
       "\\begin{center}\n",
       "\\begin{tabular}{llll}\n",
       "\\hline\n",
       "Omnibus:       & 14.233 & Durbin-Watson:    & 1.936   \\\\\n",
       "Prob(Omnibus): & 0.001  & Jarque-Bera (JB): & 35.175  \\\\\n",
       "Skew:          & -0.015 & Prob(JB):         & 0.000   \\\\\n",
       "Kurtosis:      & 4.683  & Condition No.:    & 158     \\\\\n",
       "\\hline\n",
       "\\end{tabular}\n",
       "\\end{center}\n",
       "\\end{table}\n",
       "\\bigskip\n",
       "Notes: \\newline \n",
       "[1] R² is computed without centering (uncentered) since the                 model does not contain a constant. \\newline \n",
       "[2] Standard Errors assume that the covariance matrix of the errors is correctly specified."
      ],
      "text/plain": [
       "<class 'statsmodels.iolib.summary2.Summary'>\n",
       "\"\"\"\n",
       "                        Results: Ordinary least squares\n",
       "================================================================================\n",
       "Model:                  OLS              Adj. R-squared (uncentered): 0.980     \n",
       "Dependent Variable:     Salary           AIC:                         6602.4370 \n",
       "Date:                   2023-11-30 10:51 BIC:                         6620.9225 \n",
       "No. Observations:       298              Log-Likelihood:              -3296.2   \n",
       "Df Model:               5                F-statistic:                 2985.     \n",
       "Df Residuals:           293              Prob (F-statistic):          6.20e-249 \n",
       "R-squared (uncentered): 0.981            Scale:                       2.4124e+08\n",
       "--------------------------------------------------------------------------------\n",
       "                         Coef.     Std.Err.    t    P>|t|    [0.025     0.975]  \n",
       "--------------------------------------------------------------------------------\n",
       "Age                     1150.7747   69.8262 16.4806 0.0000  1013.3501  1288.1992\n",
       "Gender_Male             6586.1403 1788.5716  3.6823 0.0003  3066.0642 10106.2163\n",
       "Years_of_Experience     4511.7616  229.4440 19.6639 0.0000  4060.1943  4963.3288\n",
       "Master's               19400.0239 2416.1457  8.0293 0.0000 14644.8233 24155.2245\n",
       "PhD                    26814.0562 3306.7649  8.1088 0.0000 20306.0339 33322.0785\n",
       "--------------------------------------------------------------------------------\n",
       "Omnibus:                   14.233            Durbin-Watson:               1.936 \n",
       "Prob(Omnibus):             0.001             Jarque-Bera (JB):            35.175\n",
       "Skew:                      -0.015            Prob(JB):                    0.000 \n",
       "Kurtosis:                  4.683             Condition No.:               158   \n",
       "================================================================================\n",
       "Notes:\n",
       "[1] R² is computed without centering (uncentered) since the\n",
       "model does not contain a constant.\n",
       "[2] Standard Errors assume that the covariance matrix of the errors is correctly\n",
       "specified.\n",
       "\"\"\""
      ]
     },
     "execution_count": 190,
     "metadata": {},
     "output_type": "execute_result"
    }
   ],
   "source": [
    "salary_lm.summary2()"
   ]
  },
  {
   "cell_type": "code",
   "execution_count": 180,
   "id": "004b2a88",
   "metadata": {},
   "outputs": [],
   "source": [
    "pred_y = salary_lm.predict( test_X )"
   ]
  },
  {
   "cell_type": "code",
   "execution_count": 181,
   "id": "727e1b6d",
   "metadata": {},
   "outputs": [],
   "source": [
    "from sklearn.metrics import r2_score, mean_squared_error, mean_absolute_error"
   ]
  },
  {
   "cell_type": "markdown",
   "id": "b1f1371a",
   "metadata": {},
   "source": [
    "## Mean Absolute Error"
   ]
  },
  {
   "cell_type": "code",
   "execution_count": 182,
   "id": "2f5647b9",
   "metadata": {},
   "outputs": [
    {
     "data": {
      "text/plain": [
       "10119.586902018353"
      ]
     },
     "execution_count": 182,
     "metadata": {},
     "output_type": "execute_result"
    }
   ],
   "source": [
    "mean_absolute_error(test_y, pred_y)"
   ]
  },
  {
   "cell_type": "markdown",
   "id": "de006ed1",
   "metadata": {},
   "source": [
    "## Mean Square Error"
   ]
  },
  {
   "cell_type": "code",
   "execution_count": 183,
   "id": "e4243951",
   "metadata": {},
   "outputs": [
    {
     "data": {
      "text/plain": [
       "209714023.06509057"
      ]
     },
     "execution_count": 183,
     "metadata": {},
     "output_type": "execute_result"
    }
   ],
   "source": [
    "mean_squared_error(test_y, pred_y)"
   ]
  },
  {
   "cell_type": "markdown",
   "id": "a7d356cf",
   "metadata": {},
   "source": [
    "## Root Mean Square Error"
   ]
  },
  {
   "cell_type": "code",
   "execution_count": 184,
   "id": "15fc6c50",
   "metadata": {},
   "outputs": [
    {
     "data": {
      "text/plain": [
       "14481.506242966943"
      ]
     },
     "execution_count": 184,
     "metadata": {},
     "output_type": "execute_result"
    }
   ],
   "source": [
    "np.sqrt(mean_squared_error(test_y, pred_y))"
   ]
  },
  {
   "cell_type": "code",
   "execution_count": 185,
   "id": "4f71fbfc",
   "metadata": {},
   "outputs": [
    {
     "data": {
      "text/plain": [
       "0.9125310401781696"
      ]
     },
     "execution_count": 185,
     "metadata": {},
     "output_type": "execute_result"
    }
   ],
   "source": [
    "np.abs(r2_score(test_y, pred_y))"
   ]
  }
 ],
 "metadata": {
  "kernelspec": {
   "display_name": "Python 3 (ipykernel)",
   "language": "python",
   "name": "python3"
  },
  "language_info": {
   "codemirror_mode": {
    "name": "ipython",
    "version": 3
   },
   "file_extension": ".py",
   "mimetype": "text/x-python",
   "name": "python",
   "nbconvert_exporter": "python",
   "pygments_lexer": "ipython3",
   "version": "3.11.5"
  }
 },
 "nbformat": 4,
 "nbformat_minor": 5
}
